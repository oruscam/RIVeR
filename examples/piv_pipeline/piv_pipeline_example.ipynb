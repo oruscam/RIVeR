{
 "cells": [
  {
   "cell_type": "markdown",
   "id": "447acb83",
   "metadata": {},
   "source": [
    "## PIV Pipeline example"
   ]
  },
  {
   "cell_type": "code",
   "execution_count": 1,
   "id": "93a57c8f-fca9-40ff-a0c9-67ad7fbab8ed",
   "metadata": {},
   "outputs": [],
   "source": [
    "import json\n",
    "\n",
    "import cv2\n",
    "from matplotlib import pyplot as plt\n",
    "\n",
    "import river.core.define_roi_masks as drm"
   ]
  },
  {
   "cell_type": "code",
   "execution_count": 2,
   "id": "48b8a91a-d4c7-43d2-aab2-f8ae47965fdf",
   "metadata": {},
   "outputs": [],
   "source": [
    "from pathlib import Path\n",
    "\n",
    "image_1_path = Path('frames/0000000001.jpg')\n",
    "image_2_path = Path('frames/0000000003.jpg')\n",
    "\n",
    "image_1 = cv2.imread(image_1_path)\n",
    "image_2 = cv2.imread(image_2_path)\n"
   ]
  },
  {
   "cell_type": "code",
   "execution_count": 3,
   "id": "882416b4-6554-4a21-aef2-7303270d245a",
   "metadata": {},
   "outputs": [],
   "source": [
    "uav_matrix = json.loads(Path('uav_transformation_matrix.json').read_text())"
   ]
  },
  {
   "cell_type": "code",
   "execution_count": 4,
   "id": "c7d7e757-dae5-4ec9-940d-84ddafe9c4ac",
   "metadata": {},
   "outputs": [],
   "source": [
    "xsections = json.loads(Path('xsections.json').read_text())"
   ]
  },
  {
   "cell_type": "code",
   "execution_count": 5,
   "id": "30bf2a13-95b7-4d7d-9baf-f79bbb9a906f",
   "metadata": {},
   "outputs": [],
   "source": [
    "height_roi = 5"
   ]
  },
  {
   "cell_type": "code",
   "execution_count": 6,
   "id": "25f96c18-f3ae-438c-9f94-cf6cfaa4cf91",
   "metadata": {},
   "outputs": [],
   "source": [
    "mask, bbox = drm.create_mask_and_bbox(image_1, xsections, uav_matrix, height_roi)"
   ]
  },
  {
   "cell_type": "code",
   "execution_count": 7,
   "id": "c9502bc7-8f14-40ee-8fdb-26b4bf63b3e8",
   "metadata": {},
   "outputs": [],
   "source": [
    "from river.core.piv_pipeline import run_test\n",
    "\n",
    "results = run_test(image_1_path, image_2_path, mask, bbox, filter_sub_background=False)"
   ]
  },
  {
   "cell_type": "code",
   "execution_count": null,
   "id": "d4465bd0-8161-4f19-b371-f02fa668e352",
   "metadata": {},
   "outputs": [
    {
     "name": "stdout",
     "output_type": "stream",
     "text": [
      "Processing 31 frames...\n"
     ]
    },
    {
     "name": "stderr",
     "output_type": "stream",
     "text": [
      "Processing image pairs:  53%|███████████████████████████████████████████████████████████████████████████▋                                                                  | 16/30 [00:10<00:10,  1.36it/s, ETA=9.3s]"
     ]
    }
   ],
   "source": [
    "from river.core.piv_pipeline import run_analyze_all\n",
    "\n",
    "images_location = Path('frames/')\n",
    "results = run_analyze_all(images_location, mask=mask, bbox=bbox, filter_sub_background=False)"
   ]
  },
  {
   "cell_type": "code",
   "execution_count": 24,
   "id": "9a4c0260-ae8a-4aeb-8285-41f95eb1741a",
   "metadata": {},
   "outputs": [
    {
     "ename": "KeyError",
     "evalue": "'u_median'",
     "output_type": "error",
     "traceback": [
      "\u001b[0;31m---------------------------------------------------------------------------\u001b[0m",
      "\u001b[0;31mKeyError\u001b[0m                                  Traceback (most recent call last)",
      "Cell \u001b[0;32mIn[24], line 6\u001b[0m\n\u001b[1;32m      4\u001b[0m ytable \u001b[38;5;241m=\u001b[39m np\u001b[38;5;241m.\u001b[39marray(results[\u001b[38;5;124m'\u001b[39m\u001b[38;5;124my\u001b[39m\u001b[38;5;124m'\u001b[39m])\u001b[38;5;241m.\u001b[39mreshape(results[\u001b[38;5;124m'\u001b[39m\u001b[38;5;124mshape\u001b[39m\u001b[38;5;124m'\u001b[39m])\n\u001b[1;32m      5\u001b[0m \u001b[38;5;66;03m#Calculte the median velocity field\u001b[39;00m\n\u001b[0;32m----> 6\u001b[0m u_median \u001b[38;5;241m=\u001b[39m np\u001b[38;5;241m.\u001b[39marray(\u001b[43mresults\u001b[49m\u001b[43m[\u001b[49m\u001b[38;5;124;43m'\u001b[39;49m\u001b[38;5;124;43mu_median\u001b[39;49m\u001b[38;5;124;43m'\u001b[39;49m\u001b[43m]\u001b[49m)\u001b[38;5;241m.\u001b[39mreshape(results[\u001b[38;5;124m'\u001b[39m\u001b[38;5;124mshape\u001b[39m\u001b[38;5;124m'\u001b[39m])\n\u001b[1;32m      7\u001b[0m v_median \u001b[38;5;241m=\u001b[39m np\u001b[38;5;241m.\u001b[39marray(results[\u001b[38;5;124m'\u001b[39m\u001b[38;5;124mv_median\u001b[39m\u001b[38;5;124m'\u001b[39m])\u001b[38;5;241m.\u001b[39mreshape(results[\u001b[38;5;124m'\u001b[39m\u001b[38;5;124mshape\u001b[39m\u001b[38;5;124m'\u001b[39m])\n\u001b[1;32m      8\u001b[0m \u001b[38;5;66;03m#Calculte the velocity field #75\u001b[39;00m\n",
      "\u001b[0;31mKeyError\u001b[0m: 'u_median'"
     ]
    }
   ],
   "source": [
    "import numpy as np\n",
    "\n",
    "xtable = np.array(results['x']).reshape(results['shape'])\n",
    "ytable = np.array(results['y']).reshape(results['shape'])\n",
    "#Calculte the median velocity field\n",
    "u_median = np.array(results['u_median']).reshape(results['shape'])\n",
    "v_median = np.array(results['v_median']).reshape(results['shape'])\n",
    "#Calculte the velocity field #75\n",
    "u_75 = np.array(results['u'][20]).reshape(results['shape'])\n",
    "v_75 = np.array(results['v'][20]).reshape(results['shape'])\n",
    "fig, ax = plt.subplots(1)\n",
    "ax.imshow(cv2.imread(image_1_path, cv2.IMREAD_GRAYSCALE))\n",
    "ax.imshow(mask, alpha=0.2,cmap='grey')\n",
    "ax.quiver(xtable, ytable, u_median, -v_median, color='red')\n",
    "ax.quiver(xtable, ytable, u_75, -v_75, color='green')\n",
    "ax.quiver(xtable, ytable, u_75, -v_75, color='green')"
   ]
  }
 ],
 "metadata": {
  "kernelspec": {
   "display_name": "Python 3 (ipykernel)",
   "language": "python",
   "name": "python3"
  },
  "language_info": {
   "codemirror_mode": {
    "name": "ipython",
    "version": 3
   },
   "file_extension": ".py",
   "mimetype": "text/x-python",
   "name": "python",
   "nbconvert_exporter": "python",
   "pygments_lexer": "ipython3",
   "version": "3.12.2"
  }
 },
 "nbformat": 4,
 "nbformat_minor": 5
}
