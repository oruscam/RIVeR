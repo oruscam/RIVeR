


from pathlib import Path

import river.core.coordinate_transform as ct


x1_pix, y1_pix = 1700, 1345
x2_pix, y2_pix = 2474, 841
x1_rw, y1_rw = 25, 0
x2_rw, y2_rw = 0, 0


pixel_size = ct.get_pixel_size(x1_pix, y1_pix, x2_pix, y2_pix, x1_rw, y1_rw, x2_rw, y2_rw)


matrix = ct.get_uav_transformation_matrix(pixel_size, x1_pix, y1_pix, x2_pix, y2_pix, x1_rw, y1_rw, x2_rw, y2_rw)


rw_coordinates = ct.transform_pixel_to_real_world(x1_pix, y2_pix, matrix)


pix_coordinate = ct.transform_real_world_to_pixel(x1_rw, y1_rw, matrix)



