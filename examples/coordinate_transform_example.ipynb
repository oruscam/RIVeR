{
 "cells": [
  {
   "cell_type": "markdown",
   "id": "e535e61f",
   "metadata": {},
   "source": [
    "## Coordinate transform example"
   ]
  },
  {
   "cell_type": "code",
   "execution_count": 1,
   "id": "2e1f2ba8-3bd5-45ce-bca0-df88f964c8f6",
   "metadata": {},
   "outputs": [],
   "source": [
    "from pathlib import Path\n",
    "\n",
    "import river.core.coordinate_transform as ct"
   ]
  },
  {
   "cell_type": "code",
   "execution_count": 2,
   "id": "8ec75f70-f2e5-4bef-a318-7c851ed186fd",
   "metadata": {},
   "outputs": [],
   "source": [
    "x1_pix, y1_pix = 1700, 1345\n",
    "x2_pix, y2_pix = 2474, 841\n",
    "x1_rw, y1_rw = 25, 0\n",
    "x2_rw, y2_rw = 0, 0"
   ]
  },
  {
   "cell_type": "code",
   "execution_count": 3,
   "id": "c9b28ffe-20e3-491b-bdb1-f7ed17942f32",
   "metadata": {},
   "outputs": [],
   "source": [
    "pixel_size = ct.get_pixel_size(x1_pix, y1_pix, x2_pix, y2_pix, x1_rw, y1_rw, x2_rw, y2_rw)"
   ]
  },
  {
   "cell_type": "code",
   "execution_count": 4,
   "id": "924d2c52-fd5c-4dd7-aabe-ddd2ea8c0545",
   "metadata": {},
   "outputs": [],
   "source": [
    "matrix = ct.get_uav_transformation_matrix(pixel_size, x1_pix, y1_pix, x2_pix, y2_pix, x1_rw, y1_rw, x2_rw, y2_rw)"
   ]
  },
  {
   "cell_type": "code",
   "execution_count": 5,
   "id": "2c061f9a-9413-4982-b042-335435258a0e",
   "metadata": {},
   "outputs": [],
   "source": [
    "rw_coordinates = ct.transform_pixel_to_real_world(x1_pix, y2_pix, matrix)"
   ]
  },
  {
   "cell_type": "code",
   "execution_count": 6,
   "id": "2f36431d-4a57-4ff8-8bf1-cb0b8e20c790",
   "metadata": {},
   "outputs": [
    {
     "ename": "LinAlgError",
     "evalue": "Singular matrix",
     "output_type": "error",
     "traceback": [
      "\u001b[0;31m---------------------------------------------------------------------------\u001b[0m",
      "\u001b[0;31mLinAlgError\u001b[0m                               Traceback (most recent call last)",
      "Cell \u001b[0;32mIn[6], line 1\u001b[0m\n\u001b[0;32m----> 1\u001b[0m pix_coordinate \u001b[38;5;241m=\u001b[39m \u001b[43mct\u001b[49m\u001b[38;5;241;43m.\u001b[39;49m\u001b[43mtransform_real_world_to_pixel\u001b[49m\u001b[43m(\u001b[49m\u001b[43mx1_rw\u001b[49m\u001b[43m,\u001b[49m\u001b[43m \u001b[49m\u001b[43my1_rw\u001b[49m\u001b[43m,\u001b[49m\u001b[43m \u001b[49m\u001b[43mmatrix\u001b[49m\u001b[43m)\u001b[49m\n",
      "File \u001b[0;32m~/git/RIVeR/river/core/coordinate_transform.py:635\u001b[0m, in \u001b[0;36mtransform_real_world_to_pixel\u001b[0;34m(x_rw, y_rw, transformation_matrix)\u001b[0m\n\u001b[1;32m    623\u001b[0m \u001b[38;5;250m\u001b[39m\u001b[38;5;124;03m\"\"\"\u001b[39;00m\n\u001b[1;32m    624\u001b[0m \u001b[38;5;124;03mTransform 2 components real-world coordinates to pixel coordinates.\u001b[39;00m\n\u001b[1;32m    625\u001b[0m \n\u001b[0;32m   (...)\u001b[0m\n\u001b[1;32m    632\u001b[0m \u001b[38;5;124;03m    np.ndarray: An array containing the pixel coordinates [x, y].\u001b[39;00m\n\u001b[1;32m    633\u001b[0m \u001b[38;5;124;03m\"\"\"\u001b[39;00m\n\u001b[1;32m    634\u001b[0m \u001b[38;5;66;03m# Invert the transformation matrix to map from pixel to real-world coordinates\u001b[39;00m\n\u001b[0;32m--> 635\u001b[0m inv_transformation_matrix \u001b[38;5;241m=\u001b[39m \u001b[43mnp\u001b[49m\u001b[38;5;241;43m.\u001b[39;49m\u001b[43mlinalg\u001b[49m\u001b[38;5;241;43m.\u001b[39;49m\u001b[43minv\u001b[49m\u001b[43m(\u001b[49m\u001b[43mtransformation_matrix\u001b[49m\u001b[43m)\u001b[49m\n\u001b[1;32m    637\u001b[0m \u001b[38;5;66;03m# Create the real-world coordinate vector in homogeneous coordinates\u001b[39;00m\n\u001b[1;32m    638\u001b[0m real_world_vector \u001b[38;5;241m=\u001b[39m np\u001b[38;5;241m.\u001b[39marray([x_rw, y_rw, \u001b[38;5;241m1\u001b[39m])\n",
      "File \u001b[0;32m~/.pyenv/versions/3.12.2/envs/river/lib/python3.12/site-packages/numpy/linalg/_linalg.py:608\u001b[0m, in \u001b[0;36minv\u001b[0;34m(a)\u001b[0m\n\u001b[1;32m    605\u001b[0m signature \u001b[38;5;241m=\u001b[39m \u001b[38;5;124m'\u001b[39m\u001b[38;5;124mD->D\u001b[39m\u001b[38;5;124m'\u001b[39m \u001b[38;5;28;01mif\u001b[39;00m isComplexType(t) \u001b[38;5;28;01melse\u001b[39;00m \u001b[38;5;124m'\u001b[39m\u001b[38;5;124md->d\u001b[39m\u001b[38;5;124m'\u001b[39m\n\u001b[1;32m    606\u001b[0m \u001b[38;5;28;01mwith\u001b[39;00m errstate(call\u001b[38;5;241m=\u001b[39m_raise_linalgerror_singular, invalid\u001b[38;5;241m=\u001b[39m\u001b[38;5;124m'\u001b[39m\u001b[38;5;124mcall\u001b[39m\u001b[38;5;124m'\u001b[39m,\n\u001b[1;32m    607\u001b[0m               over\u001b[38;5;241m=\u001b[39m\u001b[38;5;124m'\u001b[39m\u001b[38;5;124mignore\u001b[39m\u001b[38;5;124m'\u001b[39m, divide\u001b[38;5;241m=\u001b[39m\u001b[38;5;124m'\u001b[39m\u001b[38;5;124mignore\u001b[39m\u001b[38;5;124m'\u001b[39m, under\u001b[38;5;241m=\u001b[39m\u001b[38;5;124m'\u001b[39m\u001b[38;5;124mignore\u001b[39m\u001b[38;5;124m'\u001b[39m):\n\u001b[0;32m--> 608\u001b[0m     ainv \u001b[38;5;241m=\u001b[39m \u001b[43m_umath_linalg\u001b[49m\u001b[38;5;241;43m.\u001b[39;49m\u001b[43minv\u001b[49m\u001b[43m(\u001b[49m\u001b[43ma\u001b[49m\u001b[43m,\u001b[49m\u001b[43m \u001b[49m\u001b[43msignature\u001b[49m\u001b[38;5;241;43m=\u001b[39;49m\u001b[43msignature\u001b[49m\u001b[43m)\u001b[49m\n\u001b[1;32m    609\u001b[0m \u001b[38;5;28;01mreturn\u001b[39;00m wrap(ainv\u001b[38;5;241m.\u001b[39mastype(result_t, copy\u001b[38;5;241m=\u001b[39m\u001b[38;5;28;01mFalse\u001b[39;00m))\n",
      "File \u001b[0;32m~/.pyenv/versions/3.12.2/envs/river/lib/python3.12/site-packages/numpy/linalg/_linalg.py:104\u001b[0m, in \u001b[0;36m_raise_linalgerror_singular\u001b[0;34m(err, flag)\u001b[0m\n\u001b[1;32m    103\u001b[0m \u001b[38;5;28;01mdef\u001b[39;00m \u001b[38;5;21m_raise_linalgerror_singular\u001b[39m(err, flag):\n\u001b[0;32m--> 104\u001b[0m     \u001b[38;5;28;01mraise\u001b[39;00m LinAlgError(\u001b[38;5;124m\"\u001b[39m\u001b[38;5;124mSingular matrix\u001b[39m\u001b[38;5;124m\"\u001b[39m)\n",
      "\u001b[0;31mLinAlgError\u001b[0m: Singular matrix"
     ]
    }
   ],
   "source": [
    "pix_coordinate = ct.transform_real_world_to_pixel(x1_rw, y1_rw, matrix)"
   ]
  }
 ],
 "metadata": {
  "kernelspec": {
   "display_name": "Python 3 (ipykernel)",
   "language": "python",
   "name": "python3"
  },
  "language_info": {
   "codemirror_mode": {
    "name": "ipython",
    "version": 3
   },
   "file_extension": ".py",
   "mimetype": "text/x-python",
   "name": "python",
   "nbconvert_exporter": "python",
   "pygments_lexer": "ipython3",
   "version": "3.12.2"
  }
 },
 "nbformat": 4,
 "nbformat_minor": 5
}
