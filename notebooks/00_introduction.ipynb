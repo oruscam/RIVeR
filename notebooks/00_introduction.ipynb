{
 "cells": [
  {
   "cell_type": "markdown",
   "id": "0be22887-1c09-4c56-bf9f-fa7b46783f3a",
   "metadata": {},
   "source": [
    "# Introduction to RIVeR: Rectification of  Image Velocimetry Results\n",
    "\n",
    "Welcome to the RIVeR tutorial series! This notebook provides an introduction to the RIVeR package, which enables  processing of river flow videos for velocity and discharge estimation using Large Scale Particle Image Velocimetry (LSPIV).\n",
    "\n",
    "## What is RIVeR?\n",
    "\n",
    "RIVeR (Rectification of  Image Velocimetry Resultse) is a Python package designed for processing river flow videos to obtain velocity fields and discharge estimates. It supports three main filming scenarios:\n",
    "\n",
    "1. **Nadir View**: Camera positioned directly above the river\n",
    "2. **Oblique View**: Camera at an angle to the river surface\n",
    "3. **Mobile 3D**: Fixed camera with 3D perspective considerations\n",
    "\n",
    "## Tutorial Series Overview\n",
    "\n",
    "This tutorial series consists of the following notebooks:\n",
    "\n",
    "1. Introduction (current notebook)\n",
    "2. Video Processing and Frame Extraction\n",
    "3. Coordinate Transformation\n",
    "4. PIV Analysis\n",
    "5. Cross-section Definition and Discharge Calculation\n",
    "\n",
    "## Prerequisites\n",
    "\n",
    "Before starting, ensure you have:\n",
    "\n",
    "- Python 3.11 or later\n",
    "- RIVeR package installed\n",
    "- Required dependencies (numpy, opencv-python, scipy)\n",
    "- Sample data downloaded (will be covered in this notebook)"
   ]
  },
  {
   "cell_type": "code",
   "execution_count": 1,
   "id": "6a951b20-c384-4cdd-90e1-ab2f7db1967f",
   "metadata": {},
   "outputs": [],
   "source": [
    "# Required imports for environment setup\n",
    "from pathlib import Path\n",
    "import sys\n",
    "import numpy as np\n",
    "import cv2\n",
    "\n",
    "# Add the root directory to Python path for relative imports\n",
    "root_dir = Path().absolute().parent\n",
    "if str(root_dir) not in sys.path:\n",
    "    sys.path.append(str(root_dir))\n",
    "\n",
    "# Import RIVeR modules\n",
    "from river.core.exceptions import VideoHasNoFrames\n",
    "from river.core.video_to_frames import video_to_frames"
   ]
  },
  {
   "cell_type": "markdown",
   "id": "e1747586-1f89-4a91-94c6-3edd25029c05",
   "metadata": {},
   "source": [
    "## Package Structure\n",
    "\n",
    "RIVeR is organized into several core modules:\n",
    "\n",
    "```bash\n",
    "river/\n",
    "├── core/\n",
    "│   ├── video_to_frames.py      # Video processing\n",
    "│   ├── coordinate_transform.py  # Coordinate transformations\n",
    "│   ├── piv_pipeline.py         # PIV analysis pipeline\n",
    "│   ├── compute_section.py      # Cross-section computations\n",
    "│   └── exceptions.py           # Custom exceptions\n",
    "└── examples/\n",
    "    └── data/                   # Sample datasets\n",
    "```\n"
   ]
  }
 ],
 "metadata": {
  "kernelspec": {
   "display_name": "Python 3 (ipykernel)",
   "language": "python",
   "name": "python3"
  },
  "language_info": {
   "codemirror_mode": {
    "name": "ipython",
    "version": 3
   },
   "file_extension": ".py",
   "mimetype": "text/x-python",
   "name": "python",
   "nbconvert_exporter": "python",
   "pygments_lexer": "ipython3",
   "version": "3.11.8"
  }
 },
 "nbformat": 4,
 "nbformat_minor": 5
}
